{
 "cells": [
  {
   "cell_type": "markdown",
   "metadata": {},
   "source": [
    "[Command]\n",
    "```\n",
    "git clone <url>\n",
    "```\n",
    "Action: clone a repository from the 'url' to local computer."
   ]
  },
  {
   "cell_type": "markdown",
   "metadata": {},
   "source": [
    "[Command]\n",
    "```\n",
    "ln /Applications/Sublime\\ Text.app/Contents/SharedSupport/bin/subl /usr/local/bin/subl\n",
    "```\n",
    "After this command, we can use\n",
    "```\n",
    "subl hello.html -n\n",
    "```\n",
    "to use SublimeText open file. The -n means we will use a whole new window to open."
   ]
  },
  {
   "cell_type": "markdown",
   "metadata": {},
   "source": [
    "[Command]\n",
    "```\n",
    "git add <filename>\n",
    "git commit -m \"message\"\n",
    "git commit -m \"Added hello.html\"\n",
    "git status\n",
    "```\n",
    "* Use \"git add `<filename>`\" to include in what will be committed\n",
    "* Use 'git commit -m \"message\"' to commit message (to know what we do) \n",
    "* Use 'git status' to check the status of respository\n",
    "    \n",
    "```\n",
    "git push\n",
    "```\n",
    "\n",
    "* Use \"git push\" to push the changes to the github repository on internet  \n",
    "\n",
    "```\n",
    "git pull\n",
    "```\n",
    "* Use \"git pull\" to pull the files which had been changed from the github repository on internet  \n",
    "\n",
    "```\n",
    "git log\n",
    "git reflog\n",
    "```\n",
    "\n",
    "* Use \"git log\" to check the change log of the repository  \n",
    "* Use \"git reflog\" to display category like history\n",
    "\n",
    "```\n",
    "git reset --hard <commit>\n",
    "git reset --hard 8992d774ff3\n",
    "git reset --hard origin/master\n",
    "```\n",
    "reset file to the version of `<commit>`, `8992d774ff3`, `origin/master`"
   ]
  },
  {
   "cell_type": "markdown",
   "metadata": {},
   "source": []
  },
  {
   "cell_type": "markdown",
   "metadata": {},
   "source": []
  },
  {
   "cell_type": "markdown",
   "metadata": {},
   "source": []
  },
  {
   "cell_type": "markdown",
   "metadata": {},
   "source": []
  },
  {
   "cell_type": "markdown",
   "metadata": {},
   "source": []
  },
  {
   "cell_type": "markdown",
   "metadata": {},
   "source": []
  }
 ],
 "metadata": {
  "kernelspec": {
   "display_name": "Python 3",
   "language": "python",
   "name": "python3"
  },
  "language_info": {
   "codemirror_mode": {
    "name": "ipython",
    "version": 3
   },
   "file_extension": ".py",
   "mimetype": "text/x-python",
   "name": "python",
   "nbconvert_exporter": "python",
   "pygments_lexer": "ipython3",
   "version": "3.7.3"
  }
 },
 "nbformat": 4,
 "nbformat_minor": 2
}
