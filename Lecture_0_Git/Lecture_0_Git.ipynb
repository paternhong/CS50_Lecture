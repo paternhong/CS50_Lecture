{
 "cells": [
  {
   "cell_type": "markdown",
   "metadata": {},
   "source": [
    "[Command]\n",
    "```\n",
    "git clone <url>\n",
    "```\n",
    "Action: clone a repository from <url> to local computer."
   ]
  },
  {
   "cell_type": "markdown",
   "metadata": {},
   "source": [
    "[Command]\n",
    "```\n",
    "ln /Applications/Sublime\\ Text.app/Contents/SharedSupport/bin/subl /usr/local/bin/subl\n",
    "```\n",
    "After this command, we can use\n",
    "```\n",
    "subl hello.html -n\n",
    "```\n",
    "to use SublimeText open file. The -n means we will use a whole new window to open."
   ]
  },
  {
   "cell_type": "markdown",
   "metadata": {},
   "source": [
    "[Command]\n",
    "```\n",
    "git add <filename>\n",
    "git commit -m \"message\"\n",
    "git commit -m \"Added hello.html\"\n",
    "git status\n",
    "git push\n",
    "```\n",
    "1. Use \"git add <file>...\" to include in what will be committed\n",
    "2. Use 'git commit -m \"message\"' to commit message\n",
    "3. Use 'git status' to check the status of respository\n",
    "4. Use \"git push\" to push the changes to the github repository in internet"
   ]
  },
  {
   "cell_type": "markdown",
   "metadata": {},
   "source": []
  },
  {
   "cell_type": "markdown",
   "metadata": {},
   "source": []
  },
  {
   "cell_type": "markdown",
   "metadata": {},
   "source": []
  },
  {
   "cell_type": "markdown",
   "metadata": {},
   "source": []
  },
  {
   "cell_type": "markdown",
   "metadata": {},
   "source": []
  },
  {
   "cell_type": "markdown",
   "metadata": {},
   "source": []
  }
 ],
 "metadata": {
  "kernelspec": {
   "display_name": "Python 3",
   "language": "python",
   "name": "python3"
  },
  "language_info": {
   "codemirror_mode": {
    "name": "ipython",
    "version": 3
   },
   "file_extension": ".py",
   "mimetype": "text/x-python",
   "name": "python",
   "nbconvert_exporter": "python",
   "pygments_lexer": "ipython3",
   "version": "3.7.3"
  }
 },
 "nbformat": 4,
 "nbformat_minor": 2
}
